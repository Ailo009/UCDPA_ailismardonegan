{
 "cells": [
  {
   "cell_type": "code",
   "execution_count": null,
   "id": "24722d9d",
   "metadata": {},
   "outputs": [],
   "source": [
    "# importing packages that will be used throughout \n",
    "import pandas as pd\n",
    "import numpy as np\n",
    "import matplotlib.pyplot as plt\n",
    "import seaborn as sns"
   ]
  },
  {
   "cell_type": "code",
   "execution_count": null,
   "id": "03436a6d",
   "metadata": {},
   "outputs": [],
   "source": [
    "# importing CSV file into Pandas Dataframe \n",
    "happiness_2020 = pd.read_csv(\"2020.csv\")"
   ]
  },
  {
   "cell_type": "code",
   "execution_count": null,
   "id": "646c16a0",
   "metadata": {},
   "outputs": [],
   "source": [
    "# displaying the data\n",
    "print(happiness_2020.head())"
   ]
  },
  {
   "cell_type": "code",
   "execution_count": null,
   "id": "eeac73e9",
   "metadata": {},
   "outputs": [],
   "source": [
    "# displaying the number of columns\n",
    "print(happiness_2020.info())"
   ]
  },
  {
   "cell_type": "code",
   "execution_count": null,
   "id": "497486f8",
   "metadata": {},
   "outputs": [],
   "source": [
    "# displaying the number of columns\n",
    "print(happiness_2020.info())"
   ]
  },
  {
   "cell_type": "code",
   "execution_count": null,
   "id": "f2a9fecf",
   "metadata": {},
   "outputs": [],
   "source": [
    "# Check the data to see if there are any missing values \n",
    "print(happiness_2020.isna().sum())"
   ]
  },
  {
   "cell_type": "code",
   "execution_count": null,
   "id": "5285e672",
   "metadata": {},
   "outputs": [],
   "source": [
    "# Check the data to see if there are any duplicates \n",
    "drop_duplicates = happiness_2020.drop_duplicates(subset=['Country name'])\n",
    "print(happiness_2020.shape,drop_duplicates.shape)"
   ]
  },
  {
   "cell_type": "code",
   "execution_count": null,
   "id": "2c0b4f98",
   "metadata": {},
   "outputs": [],
   "source": [
    "# Sort by the values of the dataframe by Ladder score\n",
    "happiness_2020.sort_values(by= 'Ladder score', ascending=False)"
   ]
  }
 ],
 "metadata": {
  "kernelspec": {
   "display_name": "Python 3",
   "language": "python",
   "name": "python3"
  },
  "language_info": {
   "codemirror_mode": {
    "name": "ipython",
    "version": 3
   },
   "file_extension": ".py",
   "mimetype": "text/x-python",
   "name": "python",
   "nbconvert_exporter": "python",
   "pygments_lexer": "ipython3",
   "version": "3.8.8"
  }
 },
 "nbformat": 4,
 "nbformat_minor": 5
}
